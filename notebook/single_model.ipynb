{
 "cells": [
  {
   "cell_type": "code",
   "execution_count": 1,
   "metadata": {
    "collapsed": true
   },
   "outputs": [],
   "source": [
    "import logging\n",
    "import numpy as np\n",
    "from gensim import utils\n",
    "from gensim.models import Word2Vec\n",
    "\n",
    "logging.basicConfig(format='%(asctime)s : %(levelname)s : %(message)s', level=logging.INFO)\n",
    "rootLogger = logging.getLogger()\n",
    "rootLogger.setLevel(logging.INFO)"
   ]
  },
  {
   "cell_type": "code",
   "execution_count": 2,
   "metadata": {
    "collapsed": false
   },
   "outputs": [
    {
     "name": "stderr",
     "output_type": "stream",
     "text": [
      "INFO:gensim.models.word2vec:loading projection weights from ./models/bothwiki_lowercase.model\n",
      "INFO:gensim.models.word2vec:loaded (3953952, 100) matrix from ./models/bothwiki_lowercase.model\n",
      "INFO:gensim.models.word2vec:precomputing L2-norms of word weight vectors\n"
     ]
    }
   ],
   "source": [
    "model = Word2Vec.load_word2vec_format('./models/bothwiki_lowercase.model', binary=False)"
   ]
  },
  {
   "cell_type": "code",
   "execution_count": 16,
   "metadata": {
    "collapsed": true
   },
   "outputs": [],
   "source": [
    "questions = 'questions-translations-medium.txt'"
   ]
  },
  {
   "cell_type": "code",
   "execution_count": 53,
   "metadata": {
    "collapsed": false
   },
   "outputs": [
    {
     "name": "stdout",
     "output_type": "stream",
     "text": [
      "#questsions seen: 0, Accuracy @1, 5, 10: [    0.  1256.  1610.]\n",
      "#questsions seen: 100, Accuracy @1, 5, 10: [    4.  1266.  1623.]\n",
      "#questsions seen: 200, Accuracy @1, 5, 10: [    9.  1276.  1635.]\n",
      "#questsions seen: 300, Accuracy @1, 5, 10: [   12.  1288.  1652.]\n",
      "#questsions seen: 400, Accuracy @1, 5, 10: [   14.  1293.  1659.]\n",
      "#questsions seen: 500, Accuracy @1, 5, 10: [   19.  1307.  1677.]\n",
      "#questsions seen: 600, Accuracy @1, 5, 10: [   26.  1317.  1689.]\n",
      "#questsions seen: 700, Accuracy @1, 5, 10: [   31.  1326.  1699.]\n",
      "#questsions seen: 800, Accuracy @1, 5, 10: [   38.  1334.  1709.]\n",
      "#questsions seen: 900, Accuracy @1, 5, 10: [   38.  1335.  1711.]\n",
      "#questsions seen: 1000, Accuracy @1, 5, 10: [   42.  1343.  1721.]\n",
      "#questsions seen: 1100, Accuracy @1, 5, 10: [   47.  1351.  1732.]\n",
      "#questsions seen: 1200, Accuracy @1, 5, 10: [   51.  1361.  1743.]\n",
      "#questsions seen: 1300, Accuracy @1, 5, 10: [   57.  1369.  1753.]\n",
      "#questsions seen: 1400, Accuracy @1, 5, 10: [   61.  1377.  1766.]\n",
      "#questsions seen: 1500, Accuracy @1, 5, 10: [   66.  1383.  1779.]\n",
      "#questsions seen: 1600, Accuracy @1, 5, 10: [   68.  1394.  1791.]\n",
      "#questsions seen: 1700, Accuracy @1, 5, 10: [   70.  1401.  1804.]\n",
      "#questsions seen: 1800, Accuracy @1, 5, 10: [   75.  1407.  1813.]\n",
      "#questsions seen: 1900, Accuracy @1, 5, 10: [   78.  1416.  1825.]\n",
      "#questsions seen: 2000, Accuracy @1, 5, 10: [   84.  1424.  1834.]\n",
      "#questsions seen: 2100, Accuracy @1, 5, 10: [   90.  1436.  1849.]\n",
      "#questsions seen: 2200, Accuracy @1, 5, 10: [   91.  1438.  1854.]\n",
      "#questsions seen: 2300, Accuracy @1, 5, 10: [   97.  1452.  1869.]\n",
      "#questsions seen: 2400, Accuracy @1, 5, 10: [  100.  1455.  1872.]\n",
      "#questsions seen: 2500, Accuracy @1, 5, 10: [  101.  1457.  1876.]\n",
      "#questsions seen: 2600, Accuracy @1, 5, 10: [  102.  1461.  1881.]\n",
      "#questsions seen: 2700, Accuracy @1, 5, 10: [  105.  1473.  1898.]\n",
      "#questsions seen: 2800, Accuracy @1, 5, 10: [  110.  1480.  1909.]\n",
      "#questsions seen: 2900, Accuracy @1, 5, 10: [  116.  1488.  1917.]\n",
      "#questsions seen: 3000, Accuracy @1, 5, 10: [  124.  1496.  1930.]\n",
      "#questsions seen: 3100, Accuracy @1, 5, 10: [  129.  1509.  1945.]\n",
      "#questsions seen: 3200, Accuracy @1, 5, 10: [  132.  1519.  1957.]\n",
      "#questsions seen: 3300, Accuracy @1, 5, 10: [  135.  1524.  1963.]\n",
      "#questsions seen: 3400, Accuracy @1, 5, 10: [  139.  1529.  1970.]\n",
      "#questsions seen: 3500, Accuracy @1, 5, 10: [  145.  1541.  1988.]\n",
      "#questsions seen: 3600, Accuracy @1, 5, 10: [  149.  1557.  2005.]\n",
      "#questsions seen: 3700, Accuracy @1, 5, 10: [  150.  1561.  2014.]\n",
      "#questsions seen: 3800, Accuracy @1, 5, 10: [  155.  1573.  2030.]\n",
      "#questsions seen: 3900, Accuracy @1, 5, 10: [  162.  1591.  2050.]\n",
      "#questsions seen: 4000, Accuracy @1, 5, 10: [  172.  1609.  2073.]\n",
      "#questsions seen: 4100, Accuracy @1, 5, 10: [  178.  1622.  2088.]\n",
      "#questsions seen: 4200, Accuracy @1, 5, 10: [  183.  1629.  2102.]\n",
      "#questsions seen: 4300, Accuracy @1, 5, 10: [  185.  1634.  2112.]\n",
      "#questsions seen: 4400, Accuracy @1, 5, 10: [  187.  1640.  2119.]\n",
      "#questsions seen: 4500, Accuracy @1, 5, 10: [  192.  1646.  2126.]\n",
      "#questsions seen: 4600, Accuracy @1, 5, 10: [  194.  1653.  2135.]\n",
      "#questsions seen: 4700, Accuracy @1, 5, 10: [  201.  1662.  2146.]\n",
      "#questsions seen: 4800, Accuracy @1, 5, 10: [  208.  1675.  2161.]\n",
      "#questsions seen: 4900, Accuracy @1, 5, 10: [  213.  1684.  2173.]\n",
      "#questsions seen: 5000, Accuracy @1, 5, 10: [  221.  1699.  2189.]\n",
      "#questsions seen: 5100, Accuracy @1, 5, 10: [  224.  1707.  2202.]\n",
      "#questsions seen: 5200, Accuracy @1, 5, 10: [  230.  1721.  2220.]\n",
      "#questsions seen: 5300, Accuracy @1, 5, 10: [  232.  1726.  2228.]\n",
      "#questsions seen: 5400, Accuracy @1, 5, 10: [  232.  1729.  2233.]\n",
      "#questsions seen: 5500, Accuracy @1, 5, 10: [  237.  1736.  2244.]\n",
      "#questsions seen: 5600, Accuracy @1, 5, 10: [  239.  1746.  2257.]\n",
      "#questsions seen: 5700, Accuracy @1, 5, 10: [  249.  1764.  2278.]\n",
      "#questsions seen: 5800, Accuracy @1, 5, 10: [  251.  1772.  2288.]\n",
      "#questsions seen: 5900, Accuracy @1, 5, 10: [  254.  1781.  2299.]\n",
      "#questsions seen: 6000, Accuracy @1, 5, 10: [  254.  1789.  2312.]\n",
      "#questsions seen: 6100, Accuracy @1, 5, 10: [  255.  1792.  2317.]\n",
      "#questsions seen: 6200, Accuracy @1, 5, 10: [  259.  1799.  2326.]\n",
      "#questsions seen: 6300, Accuracy @1, 5, 10: [  265.  1810.  2341.]\n",
      "#questsions seen: 6400, Accuracy @1, 5, 10: [  270.  1819.  2351.]\n",
      "#questsions seen: 6500, Accuracy @1, 5, 10: [  276.  1826.  2361.]\n",
      "#questsions seen: 6600, Accuracy @1, 5, 10: [  279.  1834.  2373.]\n",
      "#questsions seen: 6700, Accuracy @1, 5, 10: [  283.  1842.  2383.]\n",
      "#questsions seen: 6800, Accuracy @1, 5, 10: [  284.  1847.  2390.]\n",
      "#questsions seen: 6900, Accuracy @1, 5, 10: [  285.  1850.  2396.]\n",
      "#questsions seen: 7000, Accuracy @1, 5, 10: [  289.  1858.  2408.]\n",
      "#questsions seen: 7100, Accuracy @1, 5, 10: [  295.  1864.  2414.]\n",
      "#questsions seen: 7200, Accuracy @1, 5, 10: [  301.  1874.  2426.]\n",
      "#questsions seen: 7300, Accuracy @1, 5, 10: [  301.  1878.  2432.]\n",
      "#questsions seen: 7400, Accuracy @1, 5, 10: [  308.  1888.  2444.]\n",
      "#questsions seen: 7500, Accuracy @1, 5, 10: [  312.  1896.  2458.]\n",
      "#questsions seen: 7600, Accuracy @1, 5, 10: [  313.  1898.  2464.]\n",
      "#questsions seen: 7700, Accuracy @1, 5, 10: [  315.  1902.  2468.]\n",
      "#questsions seen: 7800, Accuracy @1, 5, 10: [  320.  1911.  2477.]\n",
      "#questsions seen: 7900, Accuracy @1, 5, 10: [  325.  1922.  2490.]\n",
      "#questsions seen: 8000, Accuracy @1, 5, 10: [  328.  1932.  2503.]\n",
      "#questsions seen: 8100, Accuracy @1, 5, 10: [  332.  1940.  2514.]\n",
      "#questsions seen: 8200, Accuracy @1, 5, 10: [  334.  1949.  2526.]\n",
      "#questsions seen: 8300, Accuracy @1, 5, 10: [  344.  1967.  2545.]\n",
      "#questsions seen: 8400, Accuracy @1, 5, 10: [  350.  1982.  2563.]\n",
      "#questsions seen: 8500, Accuracy @1, 5, 10: [  352.  1986.  2570.]\n",
      "#questsions seen: 8600, Accuracy @1, 5, 10: [  356.  1996.  2584.]\n",
      "#questsions seen: 8700, Accuracy @1, 5, 10: [  366.  2009.  2603.]\n",
      "#questsions seen: 8800, Accuracy @1, 5, 10: [  370.  2021.  2615.]\n",
      "#questsions seen: 8900, Accuracy @1, 5, 10: [  377.  2034.  2630.]\n",
      "#questsions seen: 9000, Accuracy @1, 5, 10: [  379.  2042.  2641.]\n",
      "#questsions seen: 9100, Accuracy @1, 5, 10: [  384.  2052.  2654.]\n",
      "#questsions seen: 9200, Accuracy @1, 5, 10: [  387.  2063.  2667.]\n",
      "#questsions seen: 9300, Accuracy @1, 5, 10: [  388.  2070.  2675.]\n",
      "#questsions seen: 9400, Accuracy @1, 5, 10: [  389.  2072.  2678.]\n",
      "#questsions seen: 9500, Accuracy @1, 5, 10: [  395.  2086.  2695.]\n",
      "#questsions seen: 9600, Accuracy @1, 5, 10: [  395.  2089.  2699.]\n",
      "#questsions seen: 9700, Accuracy @1, 5, 10: [  398.  2099.  2711.]\n",
      "#questsions seen: 9800, Accuracy @1, 5, 10: [  407.  2111.  2724.]\n",
      "#questsions seen: 9900, Accuracy @1, 5, 10: [  407.  2115.  2728.]\n",
      "#questsions seen: 10000, Accuracy @1, 5, 10: [  414.  2128.  2745.]\n",
      "#questsions seen: 10100, Accuracy @1, 5, 10: [  416.  2132.  2750.]\n",
      "#questsions seen: 10200, Accuracy @1, 5, 10: [  417.  2134.  2752.]\n",
      "#questsions seen: 10300, Accuracy @1, 5, 10: [  419.  2145.  2765.]\n",
      "#questsions seen: 10400, Accuracy @1, 5, 10: [  425.  2155.  2777.]\n",
      "#questsions seen: 10500, Accuracy @1, 5, 10: [  430.  2162.  2790.]\n",
      "#questsions seen: 10600, Accuracy @1, 5, 10: [  441.  2179.  2810.]\n",
      "#questsions seen: 10700, Accuracy @1, 5, 10: [  448.  2191.  2827.]\n",
      "#questsions seen: 10800, Accuracy @1, 5, 10: [  451.  2198.  2837.]\n",
      "#questsions seen: 10900, Accuracy @1, 5, 10: [  456.  2204.  2843.]\n",
      "#questsions seen: 11000, Accuracy @1, 5, 10: [  459.  2212.  2855.]\n",
      "#questsions seen: 11100, Accuracy @1, 5, 10: [  462.  2219.  2864.]\n",
      "#questsions seen: 11200, Accuracy @1, 5, 10: [  468.  2230.  2876.]\n",
      "#questsions seen: 11300, Accuracy @1, 5, 10: [  475.  2244.  2892.]\n",
      "#questsions seen: 11400, Accuracy @1, 5, 10: [  478.  2250.  2902.]\n",
      "#questsions seen: 11500, Accuracy @1, 5, 10: [  482.  2259.  2914.]\n",
      "#questsions seen: 11600, Accuracy @1, 5, 10: [  485.  2264.  2921.]\n",
      "#questsions seen: 11700, Accuracy @1, 5, 10: [  492.  2274.  2933.]\n",
      "#questsions seen: 11800, Accuracy @1, 5, 10: [  498.  2282.  2942.]\n",
      "#questsions seen: 11900, Accuracy @1, 5, 10: [  505.  2300.  2964.]\n",
      "#questsions seen: 12000, Accuracy @1, 5, 10: [  509.  2307.  2972.]\n",
      "#questsions seen: 12100, Accuracy @1, 5, 10: [  510.  2311.  2977.]\n",
      "#questsions seen: 12200, Accuracy @1, 5, 10: [  518.  2323.  2990.]\n",
      "#questsions seen: 12300, Accuracy @1, 5, 10: [  521.  2333.  3001.]\n",
      "#questsions seen: 12400, Accuracy @1, 5, 10: [  523.  2336.  3005.]\n",
      "#questsions seen: 12500, Accuracy @1, 5, 10: [  526.  2343.  3012.]\n",
      "#questsions seen: 12600, Accuracy @1, 5, 10: [  530.  2356.  3027.]\n",
      "#questsions seen: 12700, Accuracy @1, 5, 10: [  532.  2365.  3041.]\n",
      "#questsions seen: 12800, Accuracy @1, 5, 10: [  537.  2371.  3050.]\n",
      "#questsions seen: 12900, Accuracy @1, 5, 10: [  540.  2378.  3061.]\n",
      "#questsions seen: 13000, Accuracy @1, 5, 10: [  540.  2383.  3066.]\n",
      "#questsions seen: 13100, Accuracy @1, 5, 10: [  545.  2395.  3078.]\n",
      "#questsions seen: 13200, Accuracy @1, 5, 10: [  551.  2405.  3089.]\n",
      "#questsions seen: 13300, Accuracy @1, 5, 10: [  554.  2408.  3093.]\n",
      "#questsions seen: 13400, Accuracy @1, 5, 10: [  558.  2415.  3101.]\n",
      "#questsions seen: 13500, Accuracy @1, 5, 10: [  559.  2420.  3110.]\n",
      "#questsions seen: 13600, Accuracy @1, 5, 10: [  562.  2428.  3121.]\n",
      "#questsions seen: 13700, Accuracy @1, 5, 10: [  566.  2441.  3137.]\n",
      "#questsions seen: 13800, Accuracy @1, 5, 10: [  571.  2449.  3146.]\n",
      "#questsions seen: 13900, Accuracy @1, 5, 10: [  572.  2452.  3151.]\n",
      "#questsions seen: 14000, Accuracy @1, 5, 10: [  576.  2461.  3161.]\n",
      "#questsions seen: 14100, Accuracy @1, 5, 10: [  579.  2471.  3172.]\n",
      "#questsions seen: 14200, Accuracy @1, 5, 10: [  581.  2479.  3184.]\n",
      "#questsions seen: 14300, Accuracy @1, 5, 10: [  589.  2490.  3196.]\n",
      "#questsions seen: 14400, Accuracy @1, 5, 10: [  595.  2503.  3210.]\n",
      "#questsions seen: 14500, Accuracy @1, 5, 10: [  601.  2512.  3220.]\n",
      "#questsions seen: 14600, Accuracy @1, 5, 10: [  606.  2525.  3235.]\n",
      "#questsions seen: 14700, Accuracy @1, 5, 10: [  610.  2533.  3247.]\n",
      "#questsions seen: 14800, Accuracy @1, 5, 10: [  614.  2540.  3258.]\n",
      "#questsions seen: 14900, Accuracy @1, 5, 10: [  616.  2544.  3262.]\n",
      "#questsions seen: 15000, Accuracy @1, 5, 10: [  619.  2555.  3277.]\n",
      "#questsions seen: 15100, Accuracy @1, 5, 10: [  623.  2560.  3284.]\n",
      "#questsions seen: 15200, Accuracy @1, 5, 10: [  627.  2569.  3299.]\n",
      "#questsions seen: 15300, Accuracy @1, 5, 10: [  630.  2575.  3307.]\n",
      "#questsions seen: 15400, Accuracy @1, 5, 10: [  633.  2582.  3316.]\n",
      "#questsions seen: 15500, Accuracy @1, 5, 10: [  636.  2588.  3323.]\n",
      "#questsions seen: 15600, Accuracy @1, 5, 10: [  641.  2594.  3331.]\n",
      "#questsions seen: 15700, Accuracy @1, 5, 10: [  642.  2600.  3339.]\n",
      "#questsions seen: 15800, Accuracy @1, 5, 10: [  646.  2610.  3352.]\n",
      "#questsions seen: 15900, Accuracy @1, 5, 10: [  650.  2624.  3369.]\n",
      "#questsions seen: 16000, Accuracy @1, 5, 10: [  651.  2633.  3380.]\n",
      "#questsions seen: 16100, Accuracy @1, 5, 10: [  653.  2643.  3395.]\n",
      "#questsions seen: 16200, Accuracy @1, 5, 10: [  660.  2664.  3421.]\n",
      "#questsions seen: 16300, Accuracy @1, 5, 10: [  665.  2675.  3436.]\n",
      "#questsions seen: 16400, Accuracy @1, 5, 10: [  666.  2684.  3447.]\n",
      "#questsions seen: 16500, Accuracy @1, 5, 10: [  669.  2690.  3456.]\n",
      "#questsions seen: 16600, Accuracy @1, 5, 10: [  681.  2707.  3477.]\n",
      "#questsions seen: 16700, Accuracy @1, 5, 10: [  686.  2718.  3491.]\n",
      "#questsions seen: 16800, Accuracy @1, 5, 10: [  691.  2728.  3502.]\n",
      "#questsions seen: 16900, Accuracy @1, 5, 10: [  694.  2738.  3517.]\n",
      "#questsions seen: 17000, Accuracy @1, 5, 10: [  697.  2747.  3527.]\n",
      "#questsions seen: 17100, Accuracy @1, 5, 10: [  702.  2761.  3543.]\n",
      "#questsions seen: 17200, Accuracy @1, 5, 10: [  704.  2767.  3552.]\n",
      "#questsions seen: 17300, Accuracy @1, 5, 10: [  713.  2778.  3565.]\n",
      "#questsions seen: 17400, Accuracy @1, 5, 10: [  713.  2781.  3571.]\n",
      "#questsions seen: 17500, Accuracy @1, 5, 10: [  719.  2793.  3588.]\n",
      "#questsions seen: 17600, Accuracy @1, 5, 10: [  726.  2806.  3605.]\n",
      "#questsions seen: 17700, Accuracy @1, 5, 10: [  732.  2816.  3617.]\n",
      "#questsions seen: 17800, Accuracy @1, 5, 10: [  739.  2829.  3634.]\n",
      "#questsions seen: 17900, Accuracy @1, 5, 10: [  742.  2836.  3642.]\n",
      "#questsions seen: 18000, Accuracy @1, 5, 10: [  744.  2840.  3649.]\n",
      "#questsions seen: 18100, Accuracy @1, 5, 10: [  752.  2854.  3667.]\n",
      "#questsions seen: 18200, Accuracy @1, 5, 10: [  759.  2866.  3685.]\n",
      "#questsions seen: 18300, Accuracy @1, 5, 10: [  767.  2882.  3703.]\n",
      "#questsions seen: 18400, Accuracy @1, 5, 10: [  773.  2889.  3713.]\n",
      "#questsions seen: 18500, Accuracy @1, 5, 10: [  777.  2899.  3726.]\n",
      "#questsions seen: 18600, Accuracy @1, 5, 10: [  780.  2904.  3734.]\n",
      "#questsions seen: 18700, Accuracy @1, 5, 10: [  786.  2913.  3746.]\n",
      "#questsions seen: 18800, Accuracy @1, 5, 10: [  794.  2924.  3761.]\n",
      "#questsions seen: 18900, Accuracy @1, 5, 10: [  803.  2942.  3782.]\n",
      "#questsions seen: 19000, Accuracy @1, 5, 10: [  809.  2956.  3799.]\n",
      "#questsions seen: 19100, Accuracy @1, 5, 10: [  814.  2966.  3811.]\n",
      "#questsions seen: 19200, Accuracy @1, 5, 10: [  820.  2974.  3823.]\n",
      "#questsions seen: 19300, Accuracy @1, 5, 10: [  825.  2988.  3840.]\n",
      "#questsions seen: 19400, Accuracy @1, 5, 10: [  832.  3002.  3857.]\n"
     ]
    }
   ],
   "source": [
    "count = 0\n",
    "correct = np.zeros(3)\n",
    "correct[1] = 1256\n",
    "correct[2] = 1610\n",
    "\n",
    "for line_no, line in enumerate(utils.smart_open(questions)):\n",
    "    if count % 100 == 0:\n",
    "        print \"#questsions seen: %s, Accuracy @1, 5, 10: %s\" % (count, correct)\n",
    "        \n",
    "    count = count+1\n",
    "\n",
    "    a, b, c, expected = [word.lower() for word in line.split()]\n",
    "    most_similar = model.most_similar(positive=[b, c], negative=[a], topn=10)\n",
    "    #most_similar = model.most_similar_cosmul(positive=[b, c], negative=[a], topn=10)\n",
    "\n",
    "    answers = zip(*most_similar)[0]\n",
    "\n",
    "    if expected == most_similar[0][0]:\n",
    "        correct[0] = correct[0] + 1\n",
    "        correct[1] = correct[1] + 1\n",
    "        correct[2] = correct[2] + 1\n",
    "    elif expected in answers[:5]:\n",
    "        correct[1] = correct[1] + 1\n",
    "        correct[2] = correct[2] + 1\n",
    "    elif expected in answers:\n",
    "        correct[2] = correct[2] + 1"
   ]
  },
  {
   "cell_type": "code",
   "execution_count": 54,
   "metadata": {
    "collapsed": false
   },
   "outputs": [
    {
     "name": "stdout",
     "output_type": "stream",
     "text": [
      "**FINAL** Training Size: 19420, Accuracy @1, 5, 10: [  833.  3004.  3860.]\n"
     ]
    }
   ],
   "source": [
    "print \"**FINAL** Training Size: %s, Accuracy @1, 5, 10: %s\" % (count, correct)"
   ]
  },
  {
   "cell_type": "code",
   "execution_count": 52,
   "metadata": {
    "collapsed": false
   },
   "outputs": [
    {
     "name": "stdout",
     "output_type": "stream",
     "text": [
      "Line: 0, correct: 0\n",
      "Line: 100, correct: 4\n",
      "Line: 200, correct: 9\n",
      "Line: 300, correct: 12\n",
      "Line: 400, correct: 14\n",
      "Line: 500, correct: 19\n",
      "Line: 600, correct: 26\n",
      "Line: 700, correct: 31\n",
      "Line: 800, correct: 38\n",
      "Line: 900, correct: 38\n",
      "Line: 1000, correct: 42\n",
      "Line: 1100, correct: 47\n",
      "Line: 1200, correct: 51\n",
      "Line: 1300, correct: 58\n",
      "Line: 1400, correct: 61\n"
     ]
    },
    {
     "ename": "KeyboardInterrupt",
     "evalue": "",
     "output_type": "error",
     "traceback": [
      "\u001b[0;31m---------------------------------------------------------------------------\u001b[0m",
      "\u001b[0;31mKeyboardInterrupt\u001b[0m                         Traceback (most recent call last)",
      "\u001b[0;32m<ipython-input-52-5973fbcb4ea6>\u001b[0m in \u001b[0;36m<module>\u001b[0;34m()\u001b[0m\n\u001b[1;32m      3\u001b[0m \u001b[0;32mfor\u001b[0m \u001b[0mline_no\u001b[0m\u001b[0;34m,\u001b[0m \u001b[0mline\u001b[0m \u001b[0;32min\u001b[0m \u001b[0menumerate\u001b[0m\u001b[0;34m(\u001b[0m\u001b[0mutils\u001b[0m\u001b[0;34m.\u001b[0m\u001b[0msmart_open\u001b[0m\u001b[0;34m(\u001b[0m\u001b[0mquestions\u001b[0m\u001b[0;34m)\u001b[0m\u001b[0;34m)\u001b[0m\u001b[0;34m:\u001b[0m\u001b[0;34m\u001b[0m\u001b[0m\n\u001b[1;32m      4\u001b[0m     \u001b[0ma\u001b[0m\u001b[0;34m,\u001b[0m \u001b[0mb\u001b[0m\u001b[0;34m,\u001b[0m \u001b[0mc\u001b[0m\u001b[0;34m,\u001b[0m \u001b[0mexpected\u001b[0m \u001b[0;34m=\u001b[0m \u001b[0;34m[\u001b[0m\u001b[0mword\u001b[0m\u001b[0;34m.\u001b[0m\u001b[0mlower\u001b[0m\u001b[0;34m(\u001b[0m\u001b[0;34m)\u001b[0m \u001b[0;32mfor\u001b[0m \u001b[0mword\u001b[0m \u001b[0;32min\u001b[0m \u001b[0mline\u001b[0m\u001b[0;34m.\u001b[0m\u001b[0msplit\u001b[0m\u001b[0;34m(\u001b[0m\u001b[0;34m)\u001b[0m\u001b[0;34m]\u001b[0m\u001b[0;34m\u001b[0m\u001b[0m\n\u001b[0;32m----> 5\u001b[0;31m     \u001b[0mmost_similar\u001b[0m \u001b[0;34m=\u001b[0m \u001b[0mmodel\u001b[0m\u001b[0;34m.\u001b[0m\u001b[0mmost_similar\u001b[0m\u001b[0;34m(\u001b[0m\u001b[0mpositive\u001b[0m\u001b[0;34m=\u001b[0m\u001b[0;34m[\u001b[0m\u001b[0mb\u001b[0m\u001b[0;34m,\u001b[0m \u001b[0mc\u001b[0m\u001b[0;34m]\u001b[0m\u001b[0;34m,\u001b[0m \u001b[0mnegative\u001b[0m\u001b[0;34m=\u001b[0m\u001b[0;34m[\u001b[0m\u001b[0ma\u001b[0m\u001b[0;34m]\u001b[0m\u001b[0;34m,\u001b[0m \u001b[0mtopn\u001b[0m\u001b[0;34m=\u001b[0m\u001b[0;36m1\u001b[0m\u001b[0;34m)\u001b[0m\u001b[0;34m\u001b[0m\u001b[0m\n\u001b[0m\u001b[1;32m      6\u001b[0m     \u001b[0;32mif\u001b[0m \u001b[0mexpected\u001b[0m \u001b[0;34m==\u001b[0m \u001b[0mmost_similar\u001b[0m\u001b[0;34m[\u001b[0m\u001b[0;36m0\u001b[0m\u001b[0;34m]\u001b[0m\u001b[0;34m[\u001b[0m\u001b[0;36m0\u001b[0m\u001b[0;34m]\u001b[0m\u001b[0;34m:\u001b[0m\u001b[0;34m\u001b[0m\u001b[0m\n\u001b[1;32m      7\u001b[0m         \u001b[0mhits\u001b[0m \u001b[0;34m=\u001b[0m \u001b[0mhits\u001b[0m \u001b[0;34m+\u001b[0m \u001b[0;36m1\u001b[0m\u001b[0;34m\u001b[0m\u001b[0m\n",
      "\u001b[0;32m/Users/bramleenders/miniconda/lib/python2.7/site-packages/gensim/models/word2vec.pyc\u001b[0m in \u001b[0;36mmost_similar\u001b[0;34m(self, positive, negative, topn)\u001b[0m\n\u001b[1;32m   1149\u001b[0m         \u001b[0;32mif\u001b[0m \u001b[0;32mnot\u001b[0m \u001b[0mtopn\u001b[0m\u001b[0;34m:\u001b[0m\u001b[0;34m\u001b[0m\u001b[0m\n\u001b[1;32m   1150\u001b[0m             \u001b[0;32mreturn\u001b[0m \u001b[0mdists\u001b[0m\u001b[0;34m\u001b[0m\u001b[0m\n\u001b[0;32m-> 1151\u001b[0;31m         \u001b[0mbest\u001b[0m \u001b[0;34m=\u001b[0m \u001b[0mmatutils\u001b[0m\u001b[0;34m.\u001b[0m\u001b[0margsort\u001b[0m\u001b[0;34m(\u001b[0m\u001b[0mdists\u001b[0m\u001b[0;34m,\u001b[0m \u001b[0mtopn\u001b[0m\u001b[0;34m=\u001b[0m\u001b[0mtopn\u001b[0m \u001b[0;34m+\u001b[0m \u001b[0mlen\u001b[0m\u001b[0;34m(\u001b[0m\u001b[0mall_words\u001b[0m\u001b[0;34m)\u001b[0m\u001b[0;34m,\u001b[0m \u001b[0mreverse\u001b[0m\u001b[0;34m=\u001b[0m\u001b[0mTrue\u001b[0m\u001b[0;34m)\u001b[0m\u001b[0;34m\u001b[0m\u001b[0m\n\u001b[0m\u001b[1;32m   1152\u001b[0m         \u001b[0;31m# ignore (don't return) words from the input\u001b[0m\u001b[0;34m\u001b[0m\u001b[0;34m\u001b[0m\u001b[0m\n\u001b[1;32m   1153\u001b[0m         \u001b[0mresult\u001b[0m \u001b[0;34m=\u001b[0m \u001b[0;34m[\u001b[0m\u001b[0;34m(\u001b[0m\u001b[0mself\u001b[0m\u001b[0;34m.\u001b[0m\u001b[0mindex2word\u001b[0m\u001b[0;34m[\u001b[0m\u001b[0msim\u001b[0m\u001b[0;34m]\u001b[0m\u001b[0;34m,\u001b[0m \u001b[0mfloat\u001b[0m\u001b[0;34m(\u001b[0m\u001b[0mdists\u001b[0m\u001b[0;34m[\u001b[0m\u001b[0msim\u001b[0m\u001b[0;34m]\u001b[0m\u001b[0;34m)\u001b[0m\u001b[0;34m)\u001b[0m \u001b[0;32mfor\u001b[0m \u001b[0msim\u001b[0m \u001b[0;32min\u001b[0m \u001b[0mbest\u001b[0m \u001b[0;32mif\u001b[0m \u001b[0msim\u001b[0m \u001b[0;32mnot\u001b[0m \u001b[0;32min\u001b[0m \u001b[0mall_words\u001b[0m\u001b[0;34m]\u001b[0m\u001b[0;34m\u001b[0m\u001b[0m\n",
      "\u001b[0;32m/Users/bramleenders/miniconda/lib/python2.7/site-packages/gensim/matutils.pyc\u001b[0m in \u001b[0;36margsort\u001b[0;34m(x, topn, reverse)\u001b[0m\n\u001b[1;32m     63\u001b[0m         \u001b[0;32mreturn\u001b[0m \u001b[0mnumpy\u001b[0m\u001b[0;34m.\u001b[0m\u001b[0margsort\u001b[0m\u001b[0;34m(\u001b[0m\u001b[0mx\u001b[0m\u001b[0;34m)\u001b[0m\u001b[0;34m[\u001b[0m\u001b[0;34m:\u001b[0m\u001b[0mtopn\u001b[0m\u001b[0;34m]\u001b[0m\u001b[0;34m\u001b[0m\u001b[0m\n\u001b[1;32m     64\u001b[0m     \u001b[0;31m# numpy >= 1.8 has a fast partial argsort, use that!\u001b[0m\u001b[0;34m\u001b[0m\u001b[0;34m\u001b[0m\u001b[0m\n\u001b[0;32m---> 65\u001b[0;31m     \u001b[0mmost_extreme\u001b[0m \u001b[0;34m=\u001b[0m \u001b[0mnumpy\u001b[0m\u001b[0;34m.\u001b[0m\u001b[0margpartition\u001b[0m\u001b[0;34m(\u001b[0m\u001b[0mx\u001b[0m\u001b[0;34m,\u001b[0m \u001b[0mtopn\u001b[0m\u001b[0;34m)\u001b[0m\u001b[0;34m[\u001b[0m\u001b[0;34m:\u001b[0m\u001b[0mtopn\u001b[0m\u001b[0;34m]\u001b[0m\u001b[0;34m\u001b[0m\u001b[0m\n\u001b[0m\u001b[1;32m     66\u001b[0m     \u001b[0;32mreturn\u001b[0m \u001b[0mmost_extreme\u001b[0m\u001b[0;34m.\u001b[0m\u001b[0mtake\u001b[0m\u001b[0;34m(\u001b[0m\u001b[0mnumpy\u001b[0m\u001b[0;34m.\u001b[0m\u001b[0margsort\u001b[0m\u001b[0;34m(\u001b[0m\u001b[0mx\u001b[0m\u001b[0;34m.\u001b[0m\u001b[0mtake\u001b[0m\u001b[0;34m(\u001b[0m\u001b[0mmost_extreme\u001b[0m\u001b[0;34m)\u001b[0m\u001b[0;34m)\u001b[0m\u001b[0;34m)\u001b[0m  \u001b[0;31m# resort topn into order\u001b[0m\u001b[0;34m\u001b[0m\u001b[0m\n\u001b[1;32m     67\u001b[0m \u001b[0;34m\u001b[0m\u001b[0m\n",
      "\u001b[0;32m/Users/bramleenders/miniconda/lib/python2.7/site-packages/numpy/core/fromnumeric.pyc\u001b[0m in \u001b[0;36margpartition\u001b[0;34m(a, kth, axis, kind, order)\u001b[0m\n\u001b[1;32m    707\u001b[0m     \u001b[0;32mexcept\u001b[0m \u001b[0mAttributeError\u001b[0m\u001b[0;34m:\u001b[0m\u001b[0;34m\u001b[0m\u001b[0m\n\u001b[1;32m    708\u001b[0m         \u001b[0;32mreturn\u001b[0m \u001b[0m_wrapit\u001b[0m\u001b[0;34m(\u001b[0m\u001b[0ma\u001b[0m\u001b[0;34m,\u001b[0m \u001b[0;34m'argpartition'\u001b[0m\u001b[0;34m,\u001b[0m\u001b[0mkth\u001b[0m\u001b[0;34m,\u001b[0m \u001b[0maxis\u001b[0m\u001b[0;34m,\u001b[0m \u001b[0mkind\u001b[0m\u001b[0;34m,\u001b[0m \u001b[0morder\u001b[0m\u001b[0;34m)\u001b[0m\u001b[0;34m\u001b[0m\u001b[0m\n\u001b[0;32m--> 709\u001b[0;31m     \u001b[0;32mreturn\u001b[0m \u001b[0margpartition\u001b[0m\u001b[0;34m(\u001b[0m\u001b[0mkth\u001b[0m\u001b[0;34m,\u001b[0m \u001b[0maxis\u001b[0m\u001b[0;34m,\u001b[0m \u001b[0mkind\u001b[0m\u001b[0;34m=\u001b[0m\u001b[0mkind\u001b[0m\u001b[0;34m,\u001b[0m \u001b[0morder\u001b[0m\u001b[0;34m=\u001b[0m\u001b[0morder\u001b[0m\u001b[0;34m)\u001b[0m\u001b[0;34m\u001b[0m\u001b[0m\n\u001b[0m\u001b[1;32m    710\u001b[0m \u001b[0;34m\u001b[0m\u001b[0m\n\u001b[1;32m    711\u001b[0m \u001b[0;34m\u001b[0m\u001b[0m\n",
      "\u001b[0;31mKeyboardInterrupt\u001b[0m: "
     ]
    }
   ],
   "source": [
    "# Only count perfect translations\n",
    "\n",
    "hits = 0\n",
    "\n",
    "for line_no, line in enumerate(utils.smart_open(questions)):\n",
    "    a, b, c, expected = [word.lower() for word in line.split()]\n",
    "    most_similar = model.most_similar(positive=[b, c], negative=[a], topn=1)\n",
    "    if expected == most_similar[0][0]:\n",
    "        hits = hits + 1\n",
    "        \n",
    "    if line_no % 100 == 0:\n",
    "        print \"Line: %s, correct: %s\" %(line_no, hits)\n"
   ]
  },
  {
   "cell_type": "code",
   "execution_count": null,
   "metadata": {
    "collapsed": true
   },
   "outputs": [],
   "source": []
  }
 ],
 "metadata": {
  "kernelspec": {
   "display_name": "Python 2",
   "language": "python",
   "name": "python2"
  },
  "language_info": {
   "codemirror_mode": {
    "name": "ipython",
    "version": 2
   },
   "file_extension": ".py",
   "mimetype": "text/x-python",
   "name": "python",
   "nbconvert_exporter": "python",
   "pygments_lexer": "ipython2",
   "version": "2.7.10"
  }
 },
 "nbformat": 4,
 "nbformat_minor": 0
}
